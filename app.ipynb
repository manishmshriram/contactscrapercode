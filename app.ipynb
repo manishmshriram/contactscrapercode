{
 "cells": [
  {
   "cell_type": "code",
   "execution_count": null,
   "id": "3faef798-6f8b-43e9-aaca-bec8cf9c0bd8",
   "metadata": {},
   "outputs": [],
   "source": [
    "# Download latest scraper.py from your GitHub repo\n",
    "!wget -O scraper.py https://raw.githubusercontent.com/manishmshriram/contactscrapercode/main/scraper.py\n",
    "\n",
    "# Now import the scraping logic\n",
    "from scraper import extract_contact_info\n"
   ]
  },
  {
   "cell_type": "code",
   "execution_count": 2,
   "id": "99b44826-704d-43ba-94bd-e0e35b529eb8",
   "metadata": {},
   "outputs": [
    {
     "ename": "ModuleNotFoundError",
     "evalue": "No module named 'scraper'",
     "output_type": "error",
     "traceback": [
      "\u001b[1;31m---------------------------------------------------------------------------\u001b[0m",
      "\u001b[1;31mModuleNotFoundError\u001b[0m                       Traceback (most recent call last)",
      "Cell \u001b[1;32mIn[2], line 5\u001b[0m\n\u001b[0;32m      3\u001b[0m \u001b[38;5;28;01mimport\u001b[39;00m \u001b[38;5;21;01mipywidgets\u001b[39;00m \u001b[38;5;28;01mas\u001b[39;00m \u001b[38;5;21;01mwidgets\u001b[39;00m\n\u001b[0;32m      4\u001b[0m \u001b[38;5;28;01mfrom\u001b[39;00m \u001b[38;5;21;01mIPython\u001b[39;00m\u001b[38;5;21;01m.\u001b[39;00m\u001b[38;5;21;01mdisplay\u001b[39;00m \u001b[38;5;28;01mimport\u001b[39;00m display, clear_output, HTML\n\u001b[1;32m----> 5\u001b[0m \u001b[38;5;28;01mfrom\u001b[39;00m \u001b[38;5;21;01mscraper\u001b[39;00m \u001b[38;5;28;01mimport\u001b[39;00m extract_contact_info  \u001b[38;5;66;03m# Make sure scraper.py exists\u001b[39;00m\n\u001b[0;32m      6\u001b[0m \u001b[38;5;28;01mfrom\u001b[39;00m \u001b[38;5;21;01mio\u001b[39;00m \u001b[38;5;28;01mimport\u001b[39;00m BytesIO\n\u001b[0;32m      7\u001b[0m \u001b[38;5;28;01mimport\u001b[39;00m \u001b[38;5;21;01mpandas\u001b[39;00m \u001b[38;5;28;01mas\u001b[39;00m \u001b[38;5;21;01mpd\u001b[39;00m\n",
      "\u001b[1;31mModuleNotFoundError\u001b[0m: No module named 'scraper'"
     ]
    }
   ],
   "source": [
    "# Contact Extraction Tool for Jupyter Notebook (Outside Colab)\n",
    "\n",
    "import ipywidgets as widgets\n",
    "from IPython.display import display, clear_output, HTML\n",
    "from scraper import extract_contact_info  # Make sure scraper.py exists\n",
    "from io import BytesIO\n",
    "import pandas as pd\n",
    "\n",
    "# UI Elements\n",
    "upload_button = widgets.FileUpload(accept='.xlsx', multiple=False)\n",
    "start_button = widgets.Button(description=\"▶ Start Extraction\", button_style='success')\n",
    "refresh_button = widgets.Button(description=\"🔄 Reset\", button_style='info')\n",
    "status_output = widgets.Output()\n",
    "log_output = widgets.Output()\n",
    "\n",
    "# Uploaded file container\n",
    "uploaded_file_bytes = {}\n",
    "\n",
    "# Handle upload\n",
    "def handle_upload(change):\n",
    "    global uploaded_file_bytes\n",
    "    if upload_button.value:\n",
    "        uploaded_file = next(iter(upload_button.value.values()))\n",
    "        uploaded_file_bytes = uploaded_file['content']\n",
    "        with status_output:\n",
    "            clear_output()\n",
    "            print(f\"📁 File uploaded: {uploaded_file['metadata']['name']}\")\n",
    "\n",
    "upload_button.observe(handle_upload, names='value')\n",
    "\n",
    "# Handle extraction\n",
    "def on_start_clicked(b):\n",
    "    with status_output:\n",
    "        clear_output()\n",
    "        print(\"🚀 Starting extraction...\")\n",
    "    with log_output:\n",
    "        clear_output()\n",
    "        try:\n",
    "            if not uploaded_file_bytes:\n",
    "                raise Exception(\"No file uploaded.\")\n",
    "            df_result = extract_contact_info(uploaded_file_bytes)\n",
    "            output_path = \"Company_Contacts.xlsx\"\n",
    "            df_result.to_excel(output_path, index=False)\n",
    "            print(f\"✅ Extraction complete. Output saved as '{output_path}'.\")\n",
    "        except Exception as e:\n",
    "            print(f\"⚠️ Error: {e}\")\n",
    "\n",
    "# Refresh\n",
    "def on_refresh_clicked(b):\n",
    "    clear_output(wait=True)\n",
    "    print(\"🔄 UI Reset. Please rerun the cell to reload the interface.\")\n",
    "\n",
    "# Display UI\n",
    "def setup_ui():\n",
    "    display(HTML(\"<h3>📤 Upload Excel File to Extract Contacts</h3>\"))\n",
    "    display(upload_button)\n",
    "    display(widgets.HBox([start_button, refresh_button]))\n",
    "    display(status_output)\n",
    "    display(log_output)\n",
    "    display(HTML('''\n",
    "        <style>\n",
    "          .output_scroll {overflow-x: auto; white-space: pre;}\n",
    "        </style>\n",
    "    '''))\n",
    "\n",
    "# Bind events\n",
    "start_button.on_click(on_start_clicked)\n",
    "refresh_button.on_click(on_refresh_clicked)\n",
    "\n",
    "# Run setup\n",
    "setup_ui()\n"
   ]
  }
 ],
 "metadata": {
  "kernelspec": {
   "display_name": "Python 3 (ipykernel)",
   "language": "python",
   "name": "python3"
  },
  "language_info": {
   "codemirror_mode": {
    "name": "ipython",
    "version": 3
   },
   "file_extension": ".py",
   "mimetype": "text/x-python",
   "name": "python",
   "nbconvert_exporter": "python",
   "pygments_lexer": "ipython3",
   "version": "3.12.7"
  }
 },
 "nbformat": 4,
 "nbformat_minor": 5
}
