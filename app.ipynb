{
 "cells": [
  {
   "cell_type": "code",
   "execution_count": null,
   "id": "3faef798-6f8b-43e9-aaca-bec8cf9c0bd8",
   "metadata": {},
   "outputs": [],
   "source": [
    "#modified Colab code to Notebook to Upload in Python"
   ]
  },
  {
   "cell_type": "code",
   "execution_count": null,
   "id": "e215d90d-ee0d-4851-81c6-b7fe63c06dbd",
   "metadata": {},
   "outputs": [],
   "source": [
    "from google.colab import files\n",
    "import ipywidgets as widgets\n",
    "from IPython.display import display, clear_output, HTML\n",
    "from scraper import extract_contact_info\n",
    "from io import BytesIO\n",
    "\n",
    "uploaded = {}\n",
    "upload_button = widgets.FileUpload(accept='.xlsx', multiple=False)\n",
    "start_button = widgets.Button(description=\"▶ Start Extraction\", button_style='success')\n",
    "refresh_button = widgets.Button(description=\"🔄 Reset\", button_style='info')\n",
    "status_output = widgets.Output()\n",
    "log_output = widgets.Output()\n",
    "\n",
    "def handle_upload(change):\n",
    "    global uploaded\n",
    "    uploaded = {name: file['content'] for name, file in upload_button.value.items()}\n",
    "    with status_output:\n",
    "        clear_output()\n",
    "        print(f\"📁 File uploaded: {list(uploaded.keys())[0]}\")\n",
    "\n",
    "upload_button.observe(handle_upload, names='value')\n",
    "\n",
    "def on_start_clicked(b):\n",
    "    with status_output:\n",
    "        clear_output()\n",
    "        print(\"🚀 Starting extraction...\")\n",
    "    with log_output:\n",
    "        clear_output()\n",
    "        try:\n",
    "            file_name = list(uploaded.keys())[0]\n",
    "            file_bytes = uploaded[file_name]\n",
    "            result_df = extract_contact_info(file_bytes)\n",
    "            result_df.to_excel(\"Company_Contacts.xlsx\", index=False)\n",
    "            files.download(\"Company_Contacts.xlsx\")\n",
    "            print(\"✅ Extraction complete. Output file ready.\")\n",
    "        except Exception as e:\n",
    "            print(f\"⚠️ Error: {e}\")\n",
    "\n",
    "def on_refresh_clicked(b):\n",
    "    clear_output(wait=True)\n",
    "    print(\"🔄 Please rerun the cell to refresh UI.\")\n",
    "\n",
    "def setup_ui():\n",
    "    display(upload_button)\n",
    "    display(widgets.HBox([start_button, refresh_button]))\n",
    "    display(status_output)\n",
    "    display(log_output)\n",
    "    display(HTML('''\n",
    "        <style>\n",
    "          div.input, .prompt {display: none !important;}\n",
    "          .output_scroll {overflow-x: auto; white-space: pre;}\n",
    "        </style>\n",
    "    '''))\n",
    "\n",
    "start_button.on_click(on_start_clicked)\n",
    "refresh_button.on_click(on_refresh_clicked)\n",
    "\n",
    "setup_ui()\n"
   ]
  }
 ],
 "metadata": {
  "kernelspec": {
   "display_name": "Python 3 (ipykernel)",
   "language": "python",
   "name": "python3"
  },
  "language_info": {
   "codemirror_mode": {
    "name": "ipython",
    "version": 3
   },
   "file_extension": ".py",
   "mimetype": "text/x-python",
   "name": "python",
   "nbconvert_exporter": "python",
   "pygments_lexer": "ipython3",
   "version": "3.12.7"
  }
 },
 "nbformat": 4,
 "nbformat_minor": 5
}
