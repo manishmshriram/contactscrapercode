# Contact Extraction Tool for Jupyter Notebook (Outside Colab)

import ipywidgets as widgets
from IPython.display import display, clear_output, HTML
from scraper import extract_contact_info  # Make sure scraper.py exists
from io import BytesIO
import pandas as pd

# UI Elements
upload_button = widgets.FileUpload(accept='.xlsx', multiple=False)
start_button = widgets.Button(description="▶ Start Extraction", button_style='success')
refresh_button = widgets.Button(description="🔄 Reset", button_style='info')
status_output = widgets.Output()
log_output = widgets.Output()

# Uploaded file container
uploaded_file_bytes = {}

# Handle upload
def handle_upload(change):
    global uploaded_file_bytes
    if upload_button.value:
        uploaded_file = next(iter(upload_button.value.values()))
        uploaded_file_bytes = uploaded_file['content']
        with status_output:
            clear_output()
            print(f"📁 File uploaded: {uploaded_file['metadata']['name']}")

upload_button.observe(handle_upload, names='value')

# Handle extraction
def on_start_clicked(b):
    with status_output:
        clear_output()
        print("🚀 Starting extraction...")
    with log_output:
        clear_output()
        try:
            if not uploaded_file_bytes:
                raise Exception("No file uploaded.")
            df_result = extract_contact_info(uploaded_file_bytes)
            output_path = "Company_Contacts.xlsx"
            df_result.to_excel(output_path, index=False)
            print(f"✅ Extraction complete. Output saved as '{output_path}'.")
        except Exception as e:
            print(f"⚠️ Error: {e}")

# Refresh
def on_refresh_clicked(b):
    clear_output(wait=True)
    print("🔄 UI Reset. Please rerun the cell to reload the interface.")

# Display UI
def setup_ui():
    display(HTML("<h3>📤 Upload Excel File to Extract Contacts</h3>"))
    display(upload_button)
    display(widgets.HBox([start_button, refresh_button]))
    display(status_output)
    display(log_output)
    display(HTML('''
        <style>
          .output_scroll {overflow-x: auto; white-space: pre;}
        </style>
    '''))

# Bind events
start_button.on_click(on_start_clicked)
refresh_button.on_click(on_refresh_clicked)

# Run setup
setup_ui()
